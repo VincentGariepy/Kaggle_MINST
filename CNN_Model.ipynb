{
 "cells": [
  {
   "cell_type": "code",
   "execution_count": 40,
   "metadata": {},
   "outputs": [],
   "source": [
    "#importer les librairies pours utiliser un CNN\n",
    "import keras\n",
    "import numpy as np\n",
    "import pandas as pd\n",
    "from sklearn.model_selection import train_test_split\n",
    "from tensorflow.python.keras.models import Input\n",
    "import keras.layers as layers\n",
    "from keras.models import Sequential,Model\n",
    "from keras.layers import Dense, Dropout, Flatten\n",
    "from keras.layers import Conv2D, MaxPooling2D, MaxPool2D\n",
    "from keras.layers import LeakyReLU\n",
    "from keras.optimizers import RMSprop\n",
    "from keras.callbacks import ReduceLROnPlateau"
   ]
  },
  {
   "cell_type": "code",
   "execution_count": 2,
   "metadata": {},
   "outputs": [],
   "source": [
    "#importer les données de training et test\n",
    "trainData = pd.read_csv('Data/train.csv')\n",
    "trainLabels = pd.read_csv('Data/train_result.csv')\n",
    "testData = pd.read_csv('Data/test.csv')"
   ]
  },
  {
   "cell_type": "code",
   "execution_count": 3,
   "metadata": {},
   "outputs": [],
   "source": [
    "#Mettre les points en bas de 0 à 0 et enlver les NaN\n",
    "trainData[trainData < 0] = 0\n",
    "trainData = trainData.dropna(axis=1)\n",
    "\n",
    "testData[testData < 0] = 0\n",
    "testData = testData[trainData.columns]"
   ]
  },
  {
   "cell_type": "code",
   "execution_count": 4,
   "metadata": {},
   "outputs": [],
   "source": [
    "#Reformer les donnees pour avoir une matrice de 4d pour que l'entree dans le CNN soit en 3d\n",
    "newTrainData = np.array(trainData).reshape(50000,28,56,1)"
   ]
  },
  {
   "cell_type": "code",
   "execution_count": 5,
   "metadata": {},
   "outputs": [],
   "source": [
    "#Créer les données de training et validation\n",
    "trainX,validX,trainY,validY = train_test_split(newTrainData,trainLabels,test_size = 0.2, random_state = 1)"
   ]
  },
  {
   "cell_type": "code",
   "execution_count": 7,
   "metadata": {},
   "outputs": [
    {
     "data": {
      "text/plain": [
       "10"
      ]
     },
     "execution_count": 7,
     "metadata": {},
     "output_type": "execute_result"
    },
    {
     "data": {
      "image/png": "[encoded data removed]",
      "text/plain": [
       "<Figure size 640x480 with 1 Axes>"
      ]
     },
     "metadata": {},
     "output_type": "display_data"
    }
   ],
   "source": [
    "#Visualiser\n",
    "import matplotlib.pyplot as plt\n",
    "plt.imshow(trainX[15])\n",
    "trainY.iloc[15,1]"
   ]
  },
  {
   "cell_type": "code",
   "execution_count": 8,
   "metadata": {},
   "outputs": [],
   "source": [
    "#Transformer les labels en one hot vector\n",
    "labels = trainLabels.iloc[:,1].unique().size\n",
    "trainYOH = keras.utils.to_categorical(trainY['Class'], labels)\n",
    "validYOH = keras.utils.to_categorical(validY['Class'], labels)"
   ]
  },
  {
   "cell_type": "code",
   "execution_count": 25,
   "metadata": {},
   "outputs": [],
   "source": [
    "#Batir le CNN\n",
    "model = keras.Sequential()\n",
    "model.add(layers.Conv2D(filters=6, kernel_size=(3, 3), activation='relu', input_shape=(28,56,1)))\n",
    "model.add(layers.AveragePooling2D())\n",
    "model.add(layers.Conv2D(filters=16, kernel_size=(3, 3), activation='relu'))\n",
    "model.add(layers.AveragePooling2D())\n",
    "model.add(layers.Flatten())\n",
    "model.add(layers.Dense(units=120, activation='relu'))\n",
    "model.add(layers.Dense(units=84, activation='relu'))\n",
    "model.add(layers.Dense(units=19, activation = 'softmax'))\n",
    "model.compile(loss=keras.losses.categorical_crossentropy, optimizer=keras.optimizers.Adam(), metrics=['accuracy'])"
   ]
  },
  {
   "cell_type": "code",
   "execution_count": 44,
   "metadata": {},
   "outputs": [],
   "source": [
    "#Hyperparametre d'entrainement\n",
    "batchSize = 128\n",
    "epochs = 50"
   ]
  },
  {
   "cell_type": "code",
   "execution_count": 27,
   "metadata": {},
   "outputs": [
    {
     "name": "stdout",
     "output_type": "stream",
     "text": [
      "Epoch 1/100\n",
      "313/313 [==============================] - 8s 26ms/step - loss: 2.2591 - accuracy: 0.2439 - val_loss: 1.5565 - val_accuracy: 0.4918\n",
      "Epoch 2/100\n",
      "313/313 [==============================] - 8s 25ms/step - loss: 1.1028 - accuracy: 0.6504 - val_loss: 0.7816 - val_accuracy: 0.7595\n",
      "Epoch 3/100\n",
      "313/313 [==============================] - 8s 27ms/step - loss: 0.6307 - accuracy: 0.8056 - val_loss: 0.5593 - val_accuracy: 0.8299\n",
      "Epoch 4/100\n",
      "313/313 [==============================] - 9s 29ms/step - loss: 0.4491 - accuracy: 0.8648 - val_loss: 0.4442 - val_accuracy: 0.8610\n",
      "Epoch 5/100\n",
      "313/313 [==============================] - 9s 29ms/step - loss: 0.3544 - accuracy: 0.8927 - val_loss: 0.4013 - val_accuracy: 0.8762\n",
      "Epoch 6/100\n",
      "313/313 [==============================] - 9s 29ms/step - loss: 0.3002 - accuracy: 0.9092 - val_loss: 0.3650 - val_accuracy: 0.8887\n",
      "Epoch 7/100\n",
      "313/313 [==============================] - 9s 30ms/step - loss: 0.2596 - accuracy: 0.9197 - val_loss: 0.3413 - val_accuracy: 0.8953\n",
      "Epoch 8/100\n",
      "313/313 [==============================] - 9s 30ms/step - loss: 0.2238 - accuracy: 0.9318 - val_loss: 0.3181 - val_accuracy: 0.9035\n",
      "Epoch 9/100\n",
      "313/313 [==============================] - 9s 30ms/step - loss: 0.1986 - accuracy: 0.9389 - val_loss: 0.3057 - val_accuracy: 0.9104\n",
      "Epoch 10/100\n",
      "313/313 [==============================] - 10s 32ms/step - loss: 0.1761 - accuracy: 0.9444 - val_loss: 0.2889 - val_accuracy: 0.9125\n",
      "Epoch 11/100\n",
      "313/313 [==============================] - 13s 40ms/step - loss: 0.1523 - accuracy: 0.9532 - val_loss: 0.2860 - val_accuracy: 0.9166\n",
      "Epoch 12/100\n",
      "313/313 [==============================] - 12s 37ms/step - loss: 0.1371 - accuracy: 0.9562 - val_loss: 0.2776 - val_accuracy: 0.9190\n",
      "Epoch 13/100\n",
      "313/313 [==============================] - 11s 35ms/step - loss: 0.1200 - accuracy: 0.9623 - val_loss: 0.2893 - val_accuracy: 0.9202\n",
      "Epoch 14/100\n",
      "313/313 [==============================] - 11s 35ms/step - loss: 0.1081 - accuracy: 0.9650 - val_loss: 0.2944 - val_accuracy: 0.9191\n",
      "Epoch 15/100\n",
      "313/313 [==============================] - 11s 35ms/step - loss: 0.0943 - accuracy: 0.9704 - val_loss: 0.2847 - val_accuracy: 0.9244\n",
      "Epoch 16/100\n",
      "313/313 [==============================] - 11s 35ms/step - loss: 0.0848 - accuracy: 0.9731 - val_loss: 0.2911 - val_accuracy: 0.9218\n",
      "Epoch 17/100\n",
      "313/313 [==============================] - 11s 36ms/step - loss: 0.0725 - accuracy: 0.9768 - val_loss: 0.2998 - val_accuracy: 0.9245\n",
      "Epoch 18/100\n",
      "313/313 [==============================] - 12s 39ms/step - loss: 0.0653 - accuracy: 0.9786 - val_loss: 0.2978 - val_accuracy: 0.9254\n",
      "Epoch 19/100\n",
      "313/313 [==============================] - 12s 37ms/step - loss: 0.0573 - accuracy: 0.9812 - val_loss: 0.3141 - val_accuracy: 0.9229\n",
      "Epoch 20/100\n",
      "313/313 [==============================] - 12s 37ms/step - loss: 0.0525 - accuracy: 0.9822 - val_loss: 0.3184 - val_accuracy: 0.9261\n",
      "Epoch 21/100\n",
      "313/313 [==============================] - 12s 38ms/step - loss: 0.0458 - accuracy: 0.9842 - val_loss: 0.3296 - val_accuracy: 0.9264\n",
      "Epoch 22/100\n",
      "313/313 [==============================] - 12s 38ms/step - loss: 0.0469 - accuracy: 0.9836 - val_loss: 0.3306 - val_accuracy: 0.9262\n",
      "Epoch 23/100\n",
      "313/313 [==============================] - 12s 40ms/step - loss: 0.0423 - accuracy: 0.9851 - val_loss: 0.3516 - val_accuracy: 0.9206\n",
      "Epoch 24/100\n",
      "313/313 [==============================] - 12s 38ms/step - loss: 0.0335 - accuracy: 0.9890 - val_loss: 0.3473 - val_accuracy: 0.9266\n",
      "Epoch 25/100\n",
      "313/313 [==============================] - 12s 39ms/step - loss: 0.0296 - accuracy: 0.9901 - val_loss: 0.3621 - val_accuracy: 0.9235\n",
      "Epoch 26/100\n",
      "313/313 [==============================] - 12s 39ms/step - loss: 0.0303 - accuracy: 0.9900 - val_loss: 0.3624 - val_accuracy: 0.9270\n",
      "Epoch 27/100\n",
      "313/313 [==============================] - 12s 39ms/step - loss: 0.0322 - accuracy: 0.9888 - val_loss: 0.3728 - val_accuracy: 0.9276\n",
      "Epoch 28/100\n",
      "313/313 [==============================] - 12s 39ms/step - loss: 0.0250 - accuracy: 0.9921 - val_loss: 0.3720 - val_accuracy: 0.9272\n",
      "Epoch 29/100\n",
      "313/313 [==============================] - 13s 40ms/step - loss: 0.0276 - accuracy: 0.9905 - val_loss: 0.3877 - val_accuracy: 0.9235\n",
      "Epoch 30/100\n",
      "313/313 [==============================] - 12s 40ms/step - loss: 0.0252 - accuracy: 0.9911 - val_loss: 0.3852 - val_accuracy: 0.9268\n",
      "Epoch 31/100\n",
      "313/313 [==============================] - 12s 39ms/step - loss: 0.0231 - accuracy: 0.9918 - val_loss: 0.4365 - val_accuracy: 0.9180\n",
      "Epoch 32/100\n",
      "313/313 [==============================] - 12s 39ms/step - loss: 0.0208 - accuracy: 0.9926 - val_loss: 0.4159 - val_accuracy: 0.9230\n",
      "Epoch 33/100\n",
      "313/313 [==============================] - 13s 43ms/step - loss: 0.0215 - accuracy: 0.9930 - val_loss: 0.4020 - val_accuracy: 0.9310\n",
      "Epoch 34/100\n",
      "313/313 [==============================] - 14s 46ms/step - loss: 0.0216 - accuracy: 0.9927 - val_loss: 0.4132 - val_accuracy: 0.9246\n",
      "Epoch 35/100\n",
      "313/313 [==============================] - 14s 46ms/step - loss: 0.0176 - accuracy: 0.9941 - val_loss: 0.4224 - val_accuracy: 0.9279\n",
      "Epoch 36/100\n",
      "313/313 [==============================] - 14s 45ms/step - loss: 0.0234 - accuracy: 0.9918 - val_loss: 0.4070 - val_accuracy: 0.9294\n",
      "Epoch 37/100\n",
      "313/313 [==============================] - 15s 47ms/step - loss: 0.0202 - accuracy: 0.9928 - val_loss: 0.3967 - val_accuracy: 0.9293\n",
      "Epoch 38/100\n",
      "313/313 [==============================] - 13s 42ms/step - loss: 0.0128 - accuracy: 0.9957 - val_loss: 0.4067 - val_accuracy: 0.9319\n",
      "Epoch 39/100\n",
      "313/313 [==============================] - 13s 42ms/step - loss: 0.0153 - accuracy: 0.9948 - val_loss: 0.3941 - val_accuracy: 0.9329\n",
      "Epoch 40/100\n",
      "313/313 [==============================] - 13s 41ms/step - loss: 0.0160 - accuracy: 0.9943 - val_loss: 0.3943 - val_accuracy: 0.9325\n",
      "Epoch 41/100\n",
      "313/313 [==============================] - 13s 42ms/step - loss: 0.0139 - accuracy: 0.9956 - val_loss: 0.3990 - val_accuracy: 0.9328\n",
      "Epoch 42/100\n",
      "313/313 [==============================] - 13s 43ms/step - loss: 0.0177 - accuracy: 0.9937 - val_loss: 0.4429 - val_accuracy: 0.9264\n",
      "Epoch 43/100\n",
      "313/313 [==============================] - 14s 45ms/step - loss: 0.0234 - accuracy: 0.9916 - val_loss: 0.4116 - val_accuracy: 0.9287\n",
      "Epoch 44/100\n",
      "313/313 [==============================] - 13s 41ms/step - loss: 0.0153 - accuracy: 0.9952 - val_loss: 0.4129 - val_accuracy: 0.9334\n",
      "Epoch 45/100\n",
      "313/313 [==============================] - 12s 39ms/step - loss: 0.0108 - accuracy: 0.9962 - val_loss: 0.4501 - val_accuracy: 0.9271\n",
      "Epoch 46/100\n",
      "313/313 [==============================] - 12s 38ms/step - loss: 0.0108 - accuracy: 0.9965 - val_loss: 0.4229 - val_accuracy: 0.9313\n",
      "Epoch 47/100\n",
      "313/313 [==============================] - 12s 37ms/step - loss: 0.0155 - accuracy: 0.9947 - val_loss: 0.4534 - val_accuracy: 0.9272\n",
      "Epoch 48/100\n",
      "313/313 [==============================] - 13s 40ms/step - loss: 0.0168 - accuracy: 0.9944 - val_loss: 0.4125 - val_accuracy: 0.9338\n",
      "Epoch 49/100\n",
      "313/313 [==============================] - 13s 40ms/step - loss: 0.0198 - accuracy: 0.9929 - val_loss: 0.4155 - val_accuracy: 0.9308\n",
      "Epoch 50/100\n",
      "313/313 [==============================] - 12s 39ms/step - loss: 0.0110 - accuracy: 0.9965 - val_loss: 0.3896 - val_accuracy: 0.9401\n",
      "Epoch 51/100\n",
      "313/313 [==============================] - 13s 42ms/step - loss: 0.0040 - accuracy: 0.9991 - val_loss: 0.3991 - val_accuracy: 0.9389\n",
      "Epoch 52/100\n",
      "313/313 [==============================] - 14s 44ms/step - loss: 0.0028 - accuracy: 0.9991 - val_loss: 0.4193 - val_accuracy: 0.9369\n",
      "Epoch 53/100\n",
      "313/313 [==============================] - 14s 45ms/step - loss: 0.0264 - accuracy: 0.9910 - val_loss: 0.5212 - val_accuracy: 0.9172\n",
      "Epoch 54/100\n",
      "313/313 [==============================] - 14s 45ms/step - loss: 0.0259 - accuracy: 0.9914 - val_loss: 0.4115 - val_accuracy: 0.9330\n",
      "Epoch 55/100\n",
      "313/313 [==============================] - 13s 42ms/step - loss: 0.0078 - accuracy: 0.9972 - val_loss: 0.4054 - val_accuracy: 0.9372\n",
      "Epoch 56/100\n",
      "313/313 [==============================] - 13s 41ms/step - loss: 0.0096 - accuracy: 0.9972 - val_loss: 0.4069 - val_accuracy: 0.9348\n",
      "Epoch 57/100\n",
      "313/313 [==============================] - 13s 41ms/step - loss: 0.0030 - accuracy: 0.9992 - val_loss: 0.4346 - val_accuracy: 0.9329\n",
      "Epoch 58/100\n",
      "313/313 [==============================] - 13s 41ms/step - loss: 0.0097 - accuracy: 0.9971 - val_loss: 0.4556 - val_accuracy: 0.9304\n",
      "Epoch 59/100\n",
      "313/313 [==============================] - 13s 42ms/step - loss: 0.0232 - accuracy: 0.9925 - val_loss: 0.4349 - val_accuracy: 0.9317\n",
      "Epoch 60/100\n",
      "313/313 [==============================] - 14s 43ms/step - loss: 0.0129 - accuracy: 0.9958 - val_loss: 0.3975 - val_accuracy: 0.9360\n",
      "Epoch 61/100\n",
      "313/313 [==============================] - 14s 45ms/step - loss: 0.0086 - accuracy: 0.9969 - val_loss: 0.3841 - val_accuracy: 0.9414\n",
      "Epoch 62/100\n",
      "313/313 [==============================] - 14s 45ms/step - loss: 0.0040 - accuracy: 0.9990 - val_loss: 0.4013 - val_accuracy: 0.9386\n",
      "Epoch 63/100\n",
      "313/313 [==============================] - 17s 53ms/step - loss: 0.0085 - accuracy: 0.9974 - val_loss: 0.4064 - val_accuracy: 0.9354\n",
      "Epoch 64/100\n",
      "313/313 [==============================] - 14s 45ms/step - loss: 0.0176 - accuracy: 0.9938 - val_loss: 0.3810 - val_accuracy: 0.9400\n",
      "Epoch 65/100\n",
      "313/313 [==============================] - 15s 47ms/step - loss: 0.0201 - accuracy: 0.9934 - val_loss: 0.4091 - val_accuracy: 0.9358\n",
      "Epoch 66/100\n",
      "313/313 [==============================] - 15s 47ms/step - loss: 0.0047 - accuracy: 0.9985 - val_loss: 0.3897 - val_accuracy: 0.9410\n",
      "Epoch 67/100\n",
      "313/313 [==============================] - 14s 44ms/step - loss: 0.0034 - accuracy: 0.9992 - val_loss: 0.3723 - val_accuracy: 0.9445\n",
      "Epoch 68/100\n",
      "313/313 [==============================] - 14s 44ms/step - loss: 4.9825e-04 - accuracy: 0.9999 - val_loss: 0.3750 - val_accuracy: 0.9462\n",
      "Epoch 69/100\n",
      "313/313 [==============================] - 17s 54ms/step - loss: 1.6225e-04 - accuracy: 1.0000 - val_loss: 0.3758 - val_accuracy: 0.9466\n",
      "Epoch 70/100\n",
      "313/313 [==============================] - 15s 49ms/step - loss: 9.9080e-05 - accuracy: 1.0000 - val_loss: 0.3802 - val_accuracy: 0.9462\n",
      "Epoch 71/100\n",
      "313/313 [==============================] - 14s 46ms/step - loss: 7.9645e-05 - accuracy: 1.0000 - val_loss: 0.3832 - val_accuracy: 0.9466\n",
      "Epoch 72/100\n",
      "313/313 [==============================] - 14s 45ms/step - loss: 6.6935e-05 - accuracy: 1.0000 - val_loss: 0.3872 - val_accuracy: 0.9465\n",
      "Epoch 73/100\n",
      "313/313 [==============================] - 14s 46ms/step - loss: 5.7228e-05 - accuracy: 1.0000 - val_loss: 0.3884 - val_accuracy: 0.9468\n",
      "Epoch 74/100\n",
      "313/313 [==============================] - 15s 47ms/step - loss: 4.9618e-05 - accuracy: 1.0000 - val_loss: 0.3925 - val_accuracy: 0.9472\n",
      "Epoch 75/100\n",
      "313/313 [==============================] - 16s 52ms/step - loss: 4.2974e-05 - accuracy: 1.0000 - val_loss: 0.3963 - val_accuracy: 0.9469\n",
      "Epoch 76/100\n",
      "313/313 [==============================] - 15s 47ms/step - loss: 3.7591e-05 - accuracy: 1.0000 - val_loss: 0.4005 - val_accuracy: 0.9474\n",
      "Epoch 77/100\n",
      "313/313 [==============================] - 14s 46ms/step - loss: 3.2801e-05 - accuracy: 1.0000 - val_loss: 0.4039 - val_accuracy: 0.9471\n",
      "Epoch 78/100\n",
      "313/313 [==============================] - 14s 46ms/step - loss: 2.8691e-05 - accuracy: 1.0000 - val_loss: 0.4087 - val_accuracy: 0.9471\n",
      "Epoch 79/100\n",
      "313/313 [==============================] - 15s 47ms/step - loss: 2.4990e-05 - accuracy: 1.0000 - val_loss: 0.4115 - val_accuracy: 0.9470\n",
      "Epoch 80/100\n",
      "313/313 [==============================] - 14s 46ms/step - loss: 2.1871e-05 - accuracy: 1.0000 - val_loss: 0.4165 - val_accuracy: 0.9470\n",
      "Epoch 81/100\n",
      "313/313 [==============================] - 14s 46ms/step - loss: 1.9138e-05 - accuracy: 1.0000 - val_loss: 0.4203 - val_accuracy: 0.9469\n",
      "Epoch 82/100\n",
      "313/313 [==============================] - 14s 46ms/step - loss: 1.6641e-05 - accuracy: 1.0000 - val_loss: 0.4255 - val_accuracy: 0.9465\n",
      "Epoch 83/100\n",
      "313/313 [==============================] - 15s 49ms/step - loss: 1.4555e-05 - accuracy: 1.0000 - val_loss: 0.4294 - val_accuracy: 0.9465\n",
      "Epoch 84/100\n",
      "313/313 [==============================] - 14s 45ms/step - loss: 1.2648e-05 - accuracy: 1.0000 - val_loss: 0.4341 - val_accuracy: 0.9465\n",
      "Epoch 85/100\n",
      "313/313 [==============================] - 13s 42ms/step - loss: 1.0982e-05 - accuracy: 1.0000 - val_loss: 0.4394 - val_accuracy: 0.9462\n",
      "Epoch 86/100\n",
      "313/313 [==============================] - 13s 42ms/step - loss: 9.5311e-06 - accuracy: 1.0000 - val_loss: 0.4452 - val_accuracy: 0.9457\n",
      "Epoch 87/100\n",
      "313/313 [==============================] - 13s 42ms/step - loss: 8.2160e-06 - accuracy: 1.0000 - val_loss: 0.4487 - val_accuracy: 0.9457\n",
      "Epoch 88/100\n",
      "313/313 [==============================] - 13s 43ms/step - loss: 7.1104e-06 - accuracy: 1.0000 - val_loss: 0.4534 - val_accuracy: 0.9470\n",
      "Epoch 89/100\n",
      "313/313 [==============================] - 14s 44ms/step - loss: 6.1158e-06 - accuracy: 1.0000 - val_loss: 0.4602 - val_accuracy: 0.9460\n",
      "Epoch 90/100\n",
      "313/313 [==============================] - 12s 40ms/step - loss: 5.2818e-06 - accuracy: 1.0000 - val_loss: 0.4653 - val_accuracy: 0.9464\n",
      "Epoch 91/100\n",
      "313/313 [==============================] - 12s 39ms/step - loss: 4.5680e-06 - accuracy: 1.0000 - val_loss: 0.4710 - val_accuracy: 0.9463\n",
      "Epoch 92/100\n",
      "313/313 [==============================] - 12s 40ms/step - loss: 3.9407e-06 - accuracy: 1.0000 - val_loss: 0.4753 - val_accuracy: 0.9460\n",
      "Epoch 93/100\n",
      "313/313 [==============================] - 12s 40ms/step - loss: 3.3629e-06 - accuracy: 1.0000 - val_loss: 0.4820 - val_accuracy: 0.9464\n",
      "Epoch 94/100\n",
      "313/313 [==============================] - 12s 40ms/step - loss: 2.8962e-06 - accuracy: 1.0000 - val_loss: 0.4883 - val_accuracy: 0.9460\n",
      "Epoch 95/100\n",
      "313/313 [==============================] - 12s 40ms/step - loss: 2.4748e-06 - accuracy: 1.0000 - val_loss: 0.4912 - val_accuracy: 0.9466\n",
      "Epoch 96/100\n",
      "313/313 [==============================] - 13s 40ms/step - loss: 2.1294e-06 - accuracy: 1.0000 - val_loss: 0.4985 - val_accuracy: 0.9462\n",
      "Epoch 97/100\n",
      "313/313 [==============================] - 13s 41ms/step - loss: 1.8180e-06 - accuracy: 1.0000 - val_loss: 0.5045 - val_accuracy: 0.9463\n",
      "Epoch 98/100\n",
      "313/313 [==============================] - 13s 42ms/step - loss: 1.5537e-06 - accuracy: 1.0000 - val_loss: 0.5097 - val_accuracy: 0.9460\n",
      "Epoch 99/100\n",
      "313/313 [==============================] - 13s 42ms/step - loss: 1.3334e-06 - accuracy: 1.0000 - val_loss: 0.5165 - val_accuracy: 0.9459\n",
      "Epoch 100/100\n",
      "313/313 [==============================] - 13s 43ms/step - loss: 1.1408e-06 - accuracy: 1.0000 - val_loss: 0.5222 - val_accuracy: 0.9459\n"
     ]
    },
    {
     "data": {
      "text/plain": [
       "<keras.callbacks.History at 0x21356eb2df0>"
      ]
     },
     "execution_count": 27,
     "metadata": {},
     "output_type": "execute_result"
    }
   ],
   "source": [
    "#Entrainer le model et voir sa precision sur le validation set\n",
    "model.fit(trainX, trainYOH,batch_size=batchSize,epochs=epochs,verbose=1,validation_data=(validX, validYOH))\n",
    "#score = model.evaluate(validX, validYOH, verbose=0)\n",
    "#print('Test loss:', score[0])\n",
    "#print('Test accuracy:', score[1])"
   ]
  },
  {
   "cell_type": "code",
   "execution_count": 31,
   "metadata": {},
   "outputs": [
    {
     "data": {
      "text/plain": [
       "[0.5221875309944153, 0.945900022983551]"
      ]
     },
     "execution_count": 31,
     "metadata": {},
     "output_type": "execute_result"
    }
   ],
   "source": [
    "model.evaluate(validX, validYOH, verbose=0)"
   ]
  },
  {
   "cell_type": "code",
   "execution_count": 34,
   "metadata": {},
   "outputs": [],
   "source": [
    "model = Sequential()\n",
    "\n",
    "model.add(Conv2D(filters = 32, kernel_size = (5,5),padding = 'Same', \n",
    "                 activation ='relu', input_shape = (28,56,1)))\n",
    "model.add(Conv2D(filters = 32, kernel_size = (5,5),padding = 'Same', \n",
    "                 activation ='relu'))\n",
    "model.add(MaxPool2D(pool_size=(2,2)))\n",
    "model.add(Dropout(0.25))\n",
    "\n",
    "\n",
    "model.add(Conv2D(filters = 64, kernel_size = (3,3),padding = 'Same', \n",
    "                 activation ='relu'))\n",
    "model.add(Conv2D(filters = 64, kernel_size = (3,3),padding = 'Same', \n",
    "                 activation ='relu'))\n",
    "model.add(MaxPool2D(pool_size=(2,2), strides=(2,2)))\n",
    "model.add(Dropout(0.25))\n",
    "\n",
    "\n",
    "model.add(Flatten())\n",
    "model.add(Dense(256, activation = \"relu\"))\n",
    "model.add(Dropout(0.5))\n",
    "model.add(Dense(19, activation = \"softmax\"))"
   ]
  },
  {
   "cell_type": "code",
   "execution_count": 38,
   "metadata": {},
   "outputs": [],
   "source": [
    "# Define the optimizer\n",
    "optimizer = RMSprop(learning_rate=0.001, rho=0.9, epsilon=1e-08, decay=0.0)\n",
    "# Compile the model\n",
    "model.compile(optimizer = optimizer , loss = \"categorical_crossentropy\", metrics=[\"accuracy\"])"
   ]
  },
  {
   "cell_type": "code",
   "execution_count": 43,
   "metadata": {},
   "outputs": [],
   "source": [
    "# Set a learning rate annealer\n",
    "learning_rate_reduction = ReduceLROnPlateau(monitor='val_accuracy', \n",
    "                                            patience=3, \n",
    "                                            verbose=1, \n",
    "                                            factor=0.5, \n",
    "                                            min_lr=0.00001)"
   ]
  },
  {
   "cell_type": "code",
   "execution_count": 46,
   "metadata": {},
   "outputs": [
    {
     "name": "stdout",
     "output_type": "stream",
     "text": [
      "Epoch 1/50\n",
      "313/313 [==============================] - 140s 446ms/step - loss: 0.0419 - accuracy: 0.9888 - val_loss: 0.0281 - val_accuracy: 0.9945 - lr: 6.2500e-05\n",
      "Epoch 2/50\n",
      "313/313 [==============================] - 161s 515ms/step - loss: 0.0409 - accuracy: 0.9893 - val_loss: 0.0248 - val_accuracy: 0.9948 - lr: 6.2500e-05\n",
      "Epoch 3/50\n",
      "313/313 [==============================] - 184s 588ms/step - loss: 0.0408 - accuracy: 0.9888 - val_loss: 0.0257 - val_accuracy: 0.9947 - lr: 6.2500e-05\n",
      "Epoch 4/50\n",
      "313/313 [==============================] - 215s 687ms/step - loss: 0.0394 - accuracy: 0.9905 - val_loss: 0.0273 - val_accuracy: 0.9952 - lr: 6.2500e-05\n",
      "Epoch 5/50\n",
      "313/313 [==============================] - 227s 727ms/step - loss: 0.0432 - accuracy: 0.9891 - val_loss: 0.0272 - val_accuracy: 0.9946 - lr: 6.2500e-05\n",
      "Epoch 6/50\n",
      "313/313 [==============================] - 220s 704ms/step - loss: 0.0420 - accuracy: 0.9895 - val_loss: 0.0263 - val_accuracy: 0.9950 - lr: 6.2500e-05\n",
      "Epoch 7/50\n",
      "313/313 [==============================] - ETA: 0s - loss: 0.0411 - accuracy: 0.9889\n",
      "Epoch 7: ReduceLROnPlateau reducing learning rate to 3.125000148429535e-05.\n",
      "313/313 [==============================] - 221s 706ms/step - loss: 0.0411 - accuracy: 0.9889 - val_loss: 0.0261 - val_accuracy: 0.9951 - lr: 6.2500e-05\n",
      "Epoch 8/50\n",
      "313/313 [==============================] - 223s 712ms/step - loss: 0.0403 - accuracy: 0.9898 - val_loss: 0.0233 - val_accuracy: 0.9955 - lr: 3.1250e-05\n",
      "Epoch 9/50\n",
      "313/313 [==============================] - 222s 708ms/step - loss: 0.0436 - accuracy: 0.9889 - val_loss: 0.0251 - val_accuracy: 0.9948 - lr: 3.1250e-05\n",
      "Epoch 10/50\n",
      "313/313 [==============================] - 224s 715ms/step - loss: 0.0407 - accuracy: 0.9889 - val_loss: 0.0253 - val_accuracy: 0.9948 - lr: 3.1250e-05\n",
      "Epoch 11/50\n",
      "313/313 [==============================] - ETA: 0s - loss: 0.0385 - accuracy: 0.9891\n",
      "Epoch 11: ReduceLROnPlateau reducing learning rate to 1.5625000742147677e-05.\n",
      "313/313 [==============================] - 223s 713ms/step - loss: 0.0385 - accuracy: 0.9891 - val_loss: 0.0259 - val_accuracy: 0.9947 - lr: 3.1250e-05\n",
      "Epoch 12/50\n",
      "313/313 [==============================] - 220s 702ms/step - loss: 0.0387 - accuracy: 0.9892 - val_loss: 0.0248 - val_accuracy: 0.9951 - lr: 1.5625e-05\n",
      "Epoch 13/50\n",
      "313/313 [==============================] - 227s 725ms/step - loss: 0.0403 - accuracy: 0.9894 - val_loss: 0.0271 - val_accuracy: 0.9950 - lr: 1.5625e-05\n",
      "Epoch 14/50\n",
      "313/313 [==============================] - ETA: 0s - loss: 0.0404 - accuracy: 0.9890\n",
      "Epoch 14: ReduceLROnPlateau reducing learning rate to 1e-05.\n",
      "313/313 [==============================] - 222s 709ms/step - loss: 0.0404 - accuracy: 0.9890 - val_loss: 0.0266 - val_accuracy: 0.9952 - lr: 1.5625e-05\n",
      "Epoch 15/50\n",
      "313/313 [==============================] - 223s 711ms/step - loss: 0.0372 - accuracy: 0.9897 - val_loss: 0.0249 - val_accuracy: 0.9948 - lr: 1.0000e-05\n",
      "Epoch 16/50\n",
      "313/313 [==============================] - 229s 732ms/step - loss: 0.0375 - accuracy: 0.9906 - val_loss: 0.0254 - val_accuracy: 0.9949 - lr: 1.0000e-05\n",
      "Epoch 17/50\n",
      "313/313 [==============================] - 237s 757ms/step - loss: 0.0356 - accuracy: 0.9903 - val_loss: 0.0256 - val_accuracy: 0.9949 - lr: 1.0000e-05\n",
      "Epoch 18/50\n",
      "313/313 [==============================] - 241s 771ms/step - loss: 0.0385 - accuracy: 0.9901 - val_loss: 0.0251 - val_accuracy: 0.9950 - lr: 1.0000e-05\n",
      "Epoch 19/50\n",
      "313/313 [==============================] - 241s 771ms/step - loss: 0.0399 - accuracy: 0.9894 - val_loss: 0.0267 - val_accuracy: 0.9949 - lr: 1.0000e-05\n",
      "Epoch 20/50\n",
      "313/313 [==============================] - 242s 775ms/step - loss: 0.0362 - accuracy: 0.9903 - val_loss: 0.0250 - val_accuracy: 0.9952 - lr: 1.0000e-05\n",
      "Epoch 21/50\n",
      "313/313 [==============================] - 240s 768ms/step - loss: 0.0377 - accuracy: 0.9908 - val_loss: 0.0266 - val_accuracy: 0.9953 - lr: 1.0000e-05\n",
      "Epoch 22/50\n",
      "313/313 [==============================] - 239s 765ms/step - loss: 0.0375 - accuracy: 0.9899 - val_loss: 0.0254 - val_accuracy: 0.9954 - lr: 1.0000e-05\n",
      "Epoch 23/50\n",
      "313/313 [==============================] - 234s 748ms/step - loss: 0.0369 - accuracy: 0.9905 - val_loss: 0.0252 - val_accuracy: 0.9951 - lr: 1.0000e-05\n",
      "Epoch 24/50\n",
      "313/313 [==============================] - 234s 748ms/step - loss: 0.0376 - accuracy: 0.9898 - val_loss: 0.0255 - val_accuracy: 0.9952 - lr: 1.0000e-05\n",
      "Epoch 25/50\n",
      "313/313 [==============================] - 230s 736ms/step - loss: 0.0383 - accuracy: 0.9902 - val_loss: 0.0245 - val_accuracy: 0.9952 - lr: 1.0000e-05\n",
      "Epoch 26/50\n",
      "313/313 [==============================] - 228s 728ms/step - loss: 0.0365 - accuracy: 0.9902 - val_loss: 0.0249 - val_accuracy: 0.9950 - lr: 1.0000e-05\n",
      "Epoch 27/50\n",
      "313/313 [==============================] - 286s 914ms/step - loss: 0.0400 - accuracy: 0.9892 - val_loss: 0.0272 - val_accuracy: 0.9953 - lr: 1.0000e-05\n",
      "Epoch 28/50\n",
      "313/313 [==============================] - 323s 1s/step - loss: 0.0384 - accuracy: 0.9901 - val_loss: 0.0251 - val_accuracy: 0.9950 - lr: 1.0000e-05\n",
      "Epoch 29/50\n",
      "313/313 [==============================] - 324s 1s/step - loss: 0.0371 - accuracy: 0.9904 - val_loss: 0.0242 - val_accuracy: 0.9947 - lr: 1.0000e-05\n",
      "Epoch 30/50\n",
      "313/313 [==============================] - 335s 1s/step - loss: 0.0385 - accuracy: 0.9897 - val_loss: 0.0249 - val_accuracy: 0.9949 - lr: 1.0000e-05\n",
      "Epoch 31/50\n",
      "313/313 [==============================] - 205s 652ms/step - loss: 0.0395 - accuracy: 0.9898 - val_loss: 0.0261 - val_accuracy: 0.9950 - lr: 1.0000e-05\n",
      "Epoch 32/50\n",
      "313/313 [==============================] - 243s 776ms/step - loss: 0.0372 - accuracy: 0.9901 - val_loss: 0.0254 - val_accuracy: 0.9949 - lr: 1.0000e-05\n",
      "Epoch 33/50\n",
      "313/313 [==============================] - 244s 778ms/step - loss: 0.0408 - accuracy: 0.9898 - val_loss: 0.0259 - val_accuracy: 0.9952 - lr: 1.0000e-05\n",
      "Epoch 34/50\n",
      "313/313 [==============================] - 238s 759ms/step - loss: 0.0363 - accuracy: 0.9911 - val_loss: 0.0248 - val_accuracy: 0.9953 - lr: 1.0000e-05\n",
      "Epoch 35/50\n",
      "313/313 [==============================] - 237s 757ms/step - loss: 0.0362 - accuracy: 0.9908 - val_loss: 0.0260 - val_accuracy: 0.9951 - lr: 1.0000e-05\n",
      "Epoch 36/50\n",
      "313/313 [==============================] - 238s 760ms/step - loss: 0.0396 - accuracy: 0.9897 - val_loss: 0.0259 - val_accuracy: 0.9951 - lr: 1.0000e-05\n",
      "Epoch 37/50\n",
      "313/313 [==============================] - 235s 750ms/step - loss: 0.0360 - accuracy: 0.9906 - val_loss: 0.0241 - val_accuracy: 0.9952 - lr: 1.0000e-05\n",
      "Epoch 38/50\n",
      "313/313 [==============================] - 237s 757ms/step - loss: 0.0361 - accuracy: 0.9905 - val_loss: 0.0253 - val_accuracy: 0.9954 - lr: 1.0000e-05\n",
      "Epoch 39/50\n",
      "313/313 [==============================] - 234s 747ms/step - loss: 0.0365 - accuracy: 0.9901 - val_loss: 0.0257 - val_accuracy: 0.9949 - lr: 1.0000e-05\n",
      "Epoch 40/50\n",
      "313/313 [==============================] - 237s 759ms/step - loss: 0.0360 - accuracy: 0.9905 - val_loss: 0.0263 - val_accuracy: 0.9949 - lr: 1.0000e-05\n",
      "Epoch 41/50\n",
      "313/313 [==============================] - 239s 765ms/step - loss: 0.0386 - accuracy: 0.9898 - val_loss: 0.0261 - val_accuracy: 0.9948 - lr: 1.0000e-05\n",
      "Epoch 42/50\n",
      "313/313 [==============================] - 226s 723ms/step - loss: 0.0392 - accuracy: 0.9899 - val_loss: 0.0263 - val_accuracy: 0.9947 - lr: 1.0000e-05\n",
      "Epoch 43/50\n",
      "313/313 [==============================] - 212s 677ms/step - loss: 0.0392 - accuracy: 0.9901 - val_loss: 0.0250 - val_accuracy: 0.9952 - lr: 1.0000e-05\n",
      "Epoch 44/50\n",
      "313/313 [==============================] - 212s 676ms/step - loss: 0.0355 - accuracy: 0.9904 - val_loss: 0.0269 - val_accuracy: 0.9949 - lr: 1.0000e-05\n",
      "Epoch 45/50\n",
      "313/313 [==============================] - 209s 668ms/step - loss: 0.0371 - accuracy: 0.9900 - val_loss: 0.0268 - val_accuracy: 0.9952 - lr: 1.0000e-05\n",
      "Epoch 46/50\n",
      "313/313 [==============================] - 211s 673ms/step - loss: 0.0373 - accuracy: 0.9902 - val_loss: 0.0273 - val_accuracy: 0.9948 - lr: 1.0000e-05\n",
      "Epoch 47/50\n",
      "313/313 [==============================] - 210s 671ms/step - loss: 0.0390 - accuracy: 0.9893 - val_loss: 0.0265 - val_accuracy: 0.9949 - lr: 1.0000e-05\n",
      "Epoch 48/50\n",
      "313/313 [==============================] - 221s 707ms/step - loss: 0.0394 - accuracy: 0.9904 - val_loss: 0.0260 - val_accuracy: 0.9952 - lr: 1.0000e-05\n",
      "Epoch 49/50\n",
      "313/313 [==============================] - 226s 721ms/step - loss: 0.0403 - accuracy: 0.9893 - val_loss: 0.0268 - val_accuracy: 0.9948 - lr: 1.0000e-05\n",
      "Epoch 50/50\n",
      "313/313 [==============================] - 224s 716ms/step - loss: 0.0367 - accuracy: 0.9895 - val_loss: 0.0258 - val_accuracy: 0.9948 - lr: 1.0000e-05\n"
     ]
    },
    {
     "data": {
      "text/plain": [
       "<keras.callbacks.History at 0x21360e1a3a0>"
      ]
     },
     "execution_count": 46,
     "metadata": {},
     "output_type": "execute_result"
    }
   ],
   "source": [
    "#Entrainer le model et voir sa precision sur le validation set\n",
    "model.fit(trainX, trainYOH,batch_size=batchSize,epochs=epochs,verbose=1,validation_data=(validX, validYOH),\n",
    "             callbacks=[learning_rate_reduction])\n",
    "#score = model.evaluate(validX, validYOH, verbose=0)\n",
    "#print('Test loss:', score[0])\n",
    "#print('Test accuracy:', score[1])"
   ]
  },
  {
   "cell_type": "code",
   "execution_count": 49,
   "metadata": {},
   "outputs": [
    {
     "name": "stdout",
     "output_type": "stream",
     "text": [
      "313/313 [==============================] - 7s 21ms/step\n"
     ]
    }
   ],
   "source": [
    "#Predire les donnees de test\n",
    "newTestData = np.array(testData).reshape(10000,28,56,1)\n",
    "predictions = model.predict(newTestData)"
   ]
  },
  {
   "cell_type": "code",
   "execution_count": 50,
   "metadata": {},
   "outputs": [],
   "source": [
    "#Prendre le argmax de chaque rangee\n",
    "predictionsVal = np.argmax(predictions,axis=1)"
   ]
  },
  {
   "cell_type": "code",
   "execution_count": 52,
   "metadata": {},
   "outputs": [],
   "source": [
    "#Transformer et exporter les prédictions\n",
    "predict = pd.DataFrame([range(10000),predictionsVal], index = ['Index','Class']).transpose()\n",
    "\n",
    "predict.to_csv('predictions_CNN.csv',index=False)"
   ]
  }
 ],
 "metadata": {
  "kernelspec": {
   "display_name": "Python 3.9.7 64-bit",
   "language": "python",
   "name": "python3"
  },
  "language_info": {
   "codemirror_mode": {
    "name": "ipython",
    "version": 3
   },
   "file_extension": ".py",
   "mimetype": "text/x-python",
   "name": "python",
   "nbconvert_exporter": "python",
   "pygments_lexer": "ipython3",
   "version": "3.9.7"
  },
  "orig_nbformat": 4,
  "vscode": {
   "interpreter": {
    "hash": "05d8f42d34e97b63e1918e352e5e1ee86173089fb3b8c3e567ea1c06d83cd6aa"
   }
  }
 },
 "nbformat": 4,
 "nbformat_minor": 2
}
