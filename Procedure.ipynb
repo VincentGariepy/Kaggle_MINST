{
 "cells": [
  {
   "cell_type": "code",
   "execution_count": 1,
   "metadata": {},
   "outputs": [],
   "source": [
    "import pandas as pd\n",
    "import numpy as np\n",
    "from scipy import sparse"
   ]
  },
  {
   "cell_type": "code",
   "execution_count": 2,
   "metadata": {},
   "outputs": [],
   "source": [
    "trainData = pd.read_csv('Data/train.csv')\n",
    "trainLabels = pd.read_csv('Data/train_result.csv')"
   ]
  },
  {
   "cell_type": "code",
   "execution_count": 3,
   "metadata": {},
   "outputs": [],
   "source": [
    "trainData[trainData < 0] = 0\n",
    "#Réduit de 73 features\n",
    "trainData = trainData.loc[:, (trainData != 0).any(axis=0)]\n",
    "#Réduit de 237 features\n",
    "trainData = trainData.loc[:, (trainData > 0.95).any(axis=0)]"
   ]
  },
  {
   "cell_type": "code",
   "execution_count": 12,
   "metadata": {},
   "outputs": [],
   "source": [
    "class LogisiticRegression:\n",
    "    def __init__(self, trainData, trainLabels):\n",
    "        self.trainData = trainData\n",
    "        self.trainLabels = trainLabels\n",
    "        self.size = len(trainData.columns)\n",
    "        self.labels = np.sort(trainLabels['Class'].unique())\n",
    "        self.labelSize = self.labels.size\n",
    "\n",
    "        self.weights = pd.DataFrame(np.zeros((self.size,self.labelSize)))\n",
    "        self.bias = pd.Series(np.zeros(self.labelSize))\n",
    "\n",
    "    def sigmoid(self,df):\n",
    "        result = np.zeros(len(df))\n",
    "\n",
    "        for i,val in enumerate(df):\n",
    "            result[i] = np.exp(val)/np.sum(np.exp(df))\n",
    "\n",
    "        return result\n",
    "    \n",
    "    def predict(self, df):\n",
    "        #Calculer le le produit de W^T*X^T+b pour tous les echantillons\n",
    "        newW = self.weights.transpose()\n",
    "        newX = df.transpose()\n",
    "        wx = newW.dot(newX.to_numpy())\n",
    "        gFunction = wx.transpose()+self.bias\n",
    "\n",
    "        #Faire le argmax(softmax(g(x))) pour tous les echantillons\n",
    "        softMaxResult = gFunction.apply(self.sigmoid,axis=0)\n",
    "        predictions = softMaxResult.idxmax(axis=1)\n",
    "        predictionLabels = [self.labels[i] for i in predictions]\n",
    "\n",
    "        return predictionLabels\n",
    "\n",
    "    def train(self, iter, batchSize):\n",
    "        for i in range(iter):\n",
    "            sampleTrain = trainData.sample(batchSize,replace=False,axis=0)\n",
    "            sampleLabels = trainLabels.iloc[sampleTrain.index,:]\n",
    "            \n",
    "            #Predire les labels\n",
    "            predictionLabels = self.predict(sampleTrain)\n",
    "        "
   ]
  },
  {
   "cell_type": "code",
   "execution_count": 16,
   "metadata": {},
   "outputs": [
    {
     "name": "stdout",
     "output_type": "stream",
     "text": [
      "[0, 0, 0, 0, 0, 0, 0, 0, 0, 0, 0, 0, 0, 0, 0, 0, 0, 0, 0, 0, 0, 0, 0, 0, 0, 0, 0, 0, 0, 0, 0, 0]\n"
     ]
    }
   ],
   "source": [
    "logReg = LogisiticRegression(trainData,trainLabels)\n",
    "logReg.train(1,32)"
   ]
  }
 ],
 "metadata": {
  "kernelspec": {
   "display_name": "Python 3.9.7 64-bit",
   "language": "python",
   "name": "python3"
  },
  "language_info": {
   "codemirror_mode": {
    "name": "ipython",
    "version": 3
   },
   "file_extension": ".py",
   "mimetype": "text/x-python",
   "name": "python",
   "nbconvert_exporter": "python",
   "pygments_lexer": "ipython3",
   "version": "3.9.7"
  },
  "orig_nbformat": 4,
  "vscode": {
   "interpreter": {
    "hash": "05d8f42d34e97b63e1918e352e5e1ee86173089fb3b8c3e567ea1c06d83cd6aa"
   }
  }
 },
 "nbformat": 4,
 "nbformat_minor": 2
}
